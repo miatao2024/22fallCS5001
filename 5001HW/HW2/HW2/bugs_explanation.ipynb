{
  "cells": [
    {
      "cell_type": "markdown",
      "metadata": {
        "id": "qp_OMh-6e6_O"
      },
      "source": [
        "1. A **ZeroDivisionError** occurs when second operand of division or modulus operation is zero."
      ]
    },
    {
      "cell_type": "code",
      "execution_count": 1,
      "metadata": {
        "colab": {
          "base_uri": "https://localhost:8080/",
          "height": 169
        },
        "id": "L1IK5_HDe-Og",
        "outputId": "b0124311-6849-4669-bcb6-abc502dbecf7"
      },
      "outputs": [
        {
          "ename": "ZeroDivisionError",
          "evalue": "ignored",
          "output_type": "error",
          "traceback": [
            "\u001b[0;31m---------------------------------------------------------------------------\u001b[0m",
            "\u001b[0;31mZeroDivisionError\u001b[0m                         Traceback (most recent call last)",
            "\u001b[0;32m<ipython-input-1-2fc232d1511a>\u001b[0m in \u001b[0;36m<module>\u001b[0;34m\u001b[0m\n\u001b[0;32m----> 1\u001b[0;31m \u001b[0mprint\u001b[0m\u001b[0;34m(\u001b[0m\u001b[0;36m1\u001b[0m\u001b[0;34m/\u001b[0m\u001b[0;36m0\u001b[0m\u001b[0;34m)\u001b[0m\u001b[0;34m\u001b[0m\u001b[0;34m\u001b[0m\u001b[0m\n\u001b[0m",
            "\u001b[0;31mZeroDivisionError\u001b[0m: division by zero"
          ]
        }
      ],
      "source": [
        "print(1/0)"
      ]
    },
    {
      "cell_type": "markdown",
      "metadata": {
        "id": "AVF3BXc5glLF"
      },
      "source": [
        "Division by zero is undefined in mathematics, and division by zero in Python is illegal."
      ]
    },
    {
      "cell_type": "markdown",
      "metadata": {
        "id": "Zky9gpmAfI5L"
      },
      "source": [
        "2. **SyntaxError**:A syntax error is a common error that the interpreter can detect when attempting to translate a Python statement into machine language."
      ]
    },
    {
      "cell_type": "code",
      "execution_count": 2,
      "metadata": {
        "colab": {
          "base_uri": "https://localhost:8080/",
          "height": 133
        },
        "id": "MSNpd7p_fmbO",
        "outputId": "95fc1df1-55a1-40d5-b1e6-cbd5767d481e"
      },
      "outputs": [
        {
          "ename": "SyntaxError",
          "evalue": "ignored",
          "output_type": "error",
          "traceback": [
            "\u001b[0;36m  File \u001b[0;32m\"<ipython-input-2-e711572ce62f>\"\u001b[0;36m, line \u001b[0;32m3\u001b[0m\n\u001b[0;31m    y + 2 = x\u001b[0m\n\u001b[0m             ^\u001b[0m\n\u001b[0;31mSyntaxError\u001b[0m\u001b[0;31m:\u001b[0m can't assign to operator\n"
          ]
        }
      ],
      "source": [
        "y = 5\n",
        "x = y + 2\n",
        "y + 2 = x"
      ]
    },
    {
      "cell_type": "markdown",
      "metadata": {
        "id": "3JquNSSNgDh8"
      },
      "source": [
        "The syntax of Python doesn't allow an expression like y + 2 to appear on the left side of the assignment operartor."
      ]
    },
    {
      "cell_type": "markdown",
      "metadata": {
        "id": "cP_jVgl6gSpD"
      },
      "source": [
        "3. An **IndexError** occurs when a sequence (list, string, tuple) index is out of range."
      ]
    },
    {
      "cell_type": "code",
      "execution_count": 3,
      "metadata": {
        "colab": {
          "base_uri": "https://localhost:8080/",
          "height": 187
        },
        "id": "Gx9rFhIOgDOh",
        "outputId": "23d94f76-d1bd-4769-b5b2-b871fcfa652c"
      },
      "outputs": [
        {
          "ename": "IndexError",
          "evalue": "ignored",
          "output_type": "error",
          "traceback": [
            "\u001b[0;31m---------------------------------------------------------------------------\u001b[0m",
            "\u001b[0;31mIndexError\u001b[0m                                Traceback (most recent call last)",
            "\u001b[0;32m<ipython-input-3-3aa904361311>\u001b[0m in \u001b[0;36m<module>\u001b[0;34m\u001b[0m\n\u001b[1;32m      1\u001b[0m \u001b[0mseq\u001b[0m \u001b[0;34m=\u001b[0m \u001b[0;34m[\u001b[0m\u001b[0;36m2\u001b[0m\u001b[0;34m,\u001b[0m \u001b[0;36m5\u001b[0m\u001b[0;34m,\u001b[0m \u001b[0;36m11\u001b[0m\u001b[0;34m]\u001b[0m\u001b[0;34m\u001b[0m\u001b[0;34m\u001b[0m\u001b[0m\n\u001b[0;32m----> 2\u001b[0;31m \u001b[0mprint\u001b[0m\u001b[0;34m(\u001b[0m\u001b[0mseq\u001b[0m\u001b[0;34m[\u001b[0m\u001b[0;36m3\u001b[0m\u001b[0;34m]\u001b[0m\u001b[0;34m)\u001b[0m\u001b[0;34m\u001b[0m\u001b[0;34m\u001b[0m\u001b[0m\n\u001b[0m",
            "\u001b[0;31mIndexError\u001b[0m: list index out of range"
          ]
        }
      ],
      "source": [
        "seq = [2, 5, 11]\n",
        "print(seq[3])"
      ]
    },
    {
      "cell_type": "markdown",
      "metadata": {
        "id": "jCN3kfSygdJz"
      },
      "source": [
        "'3' is out of range of the list'seq' index, which induces an IndexError."
      ]
    },
    {
      "cell_type": "markdown",
      "metadata": {
        "id": "WjKmXf_CguzI"
      },
      "source": [
        "4. A **NameError** occurs when Specified local or global name does not exists"
      ]
    },
    {
      "cell_type": "code",
      "execution_count": 4,
      "metadata": {
        "colab": {
          "base_uri": "https://localhost:8080/",
          "height": 169
        },
        "id": "l5e9ZqXUgpiH",
        "outputId": "35a5d2b5-da58-4c00-a2ea-b957e98818f7"
      },
      "outputs": [
        {
          "ename": "NameError",
          "evalue": "ignored",
          "output_type": "error",
          "traceback": [
            "\u001b[0;31m---------------------------------------------------------------------------\u001b[0m",
            "\u001b[0;31mNameError\u001b[0m                                 Traceback (most recent call last)",
            "\u001b[0;32m<ipython-input-4-fc17d851ef81>\u001b[0m in \u001b[0;36m<module>\u001b[0;34m\u001b[0m\n\u001b[0;32m----> 1\u001b[0;31m \u001b[0mprint\u001b[0m\u001b[0;34m(\u001b[0m\u001b[0mx\u001b[0m\u001b[0;34m)\u001b[0m\u001b[0;34m\u001b[0m\u001b[0;34m\u001b[0m\u001b[0m\n\u001b[0m",
            "\u001b[0;31mNameError\u001b[0m: name 'x' is not defined"
          ]
        }
      ],
      "source": [
        "print(x)"
      ]
    },
    {
      "cell_type": "markdown",
      "metadata": {
        "id": "P08w8O6lg1-U"
      },
      "source": [
        "x is not defined previously, which induces a NameError."
      ]
    }
  ],
  "metadata": {
    "colab": {
      "provenance": []
    },
    "kernelspec": {
      "display_name": "Python 3.9.10 64-bit",
      "language": "python",
      "name": "python3"
    },
    "language_info": {
      "name": "python",
      "version": "3.9.10"
    },
    "vscode": {
      "interpreter": {
        "hash": "b0fa6594d8f4cbf19f97940f81e996739fb7646882a419484c72d19e05852a7e"
      }
    }
  },
  "nbformat": 4,
  "nbformat_minor": 0
}
