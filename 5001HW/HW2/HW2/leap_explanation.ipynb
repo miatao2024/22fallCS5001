{
  "cells": [
    {
      "cell_type": "markdown",
      "metadata": {
        "id": "cXdnCiKgdOyL"
      },
      "source": [
        "## **A Boolean function called is_leap_year**"
      ]
    },
    {
      "cell_type": "code",
      "execution_count": 2,
      "metadata": {
        "id": "ezGl-mF_Tfn5"
      },
      "outputs": [],
      "source": [
        "def is_leap_year(year):\n",
        "    if year % 4 == 0:\n",
        "        if year % 100 == 0:\n",
        "            if year % 400 == 0:\n",
        "                return True\n",
        "            else:\n",
        "                return False\n",
        "        else:\n",
        "            return True\n",
        "    else:\n",
        "        return False"
      ]
    },
    {
      "cell_type": "markdown",
      "metadata": {
        "id": "opmboEkTdG8m"
      },
      "source": [
        "## **Main Function with examples tested**"
      ]
    },
    {
      "cell_type": "code",
      "execution_count": 3,
      "metadata": {
        "colab": {
          "base_uri": "https://localhost:8080/"
        },
        "id": "h-oWfL4LTkOe",
        "outputId": "882c8ac7-dbbb-4dec-b4c6-8c5f768696c6"
      },
      "outputs": [
        {
          "name": "stdout",
          "output_type": "stream",
          "text": [
            "Please enter a year greater than 0:1999\n",
            "The year 1999 is not a leap year\n"
          ]
        }
      ],
      "source": [
        "if __name__  == \"__main__\":\n",
        "    year = int(input(\"Please enter a year greater than 0:\"))\n",
        "    if is_leap_year(year):\n",
        "        print(f'The year {year} is a leap year')\n",
        "    else:\n",
        "        print(f'The year {year} is not a leap year')"
      ]
    },
    {
      "cell_type": "code",
      "execution_count": 4,
      "metadata": {
        "colab": {
          "base_uri": "https://localhost:8080/"
        },
        "id": "qez4qgmfTnom",
        "outputId": "35339fc6-b6ea-4e9e-9edb-688cd4bfe05c"
      },
      "outputs": [
        {
          "name": "stdout",
          "output_type": "stream",
          "text": [
            "Please enter a year greater than 0:2000\n",
            "The year 2000 is a leap year\n"
          ]
        }
      ],
      "source": [
        "if __name__  == \"__main__\":\n",
        "    year = int(input(\"Please enter a year greater than 0:\"))\n",
        "    if is_leap_year(year):\n",
        "        print(f'The year {year} is a leap year')\n",
        "    else:\n",
        "        print(f'The year {year} is not a leap year')"
      ]
    },
    {
      "cell_type": "code",
      "execution_count": 7,
      "metadata": {
        "colab": {
          "base_uri": "https://localhost:8080/"
        },
        "id": "P8cASI6gUQ0H",
        "outputId": "d4549050-e373-45c4-bb17-819f6c1d2f7b"
      },
      "outputs": [
        {
          "name": "stdout",
          "output_type": "stream",
          "text": [
            "Please enter a year greater than 0:2001\n",
            "The year 2001 is not a leap year\n"
          ]
        }
      ],
      "source": [
        "if __name__  == \"__main__\":\n",
        "    year = int(input(\"Please enter a year greater than 0:\"))\n",
        "    if is_leap_year(year):\n",
        "        print(f'The year {year} is a leap year')\n",
        "    else:\n",
        "        print(f'The year {year} is not a leap year')"
      ]
    },
    {
      "cell_type": "code",
      "execution_count": 8,
      "metadata": {
        "colab": {
          "base_uri": "https://localhost:8080/"
        },
        "id": "qli4_xaLUjd3",
        "outputId": "a4d56270-fb40-43df-eff0-3aa63c35e124"
      },
      "outputs": [
        {
          "name": "stdout",
          "output_type": "stream",
          "text": [
            "Please enter a year greater than 0:2002\n",
            "The year 2002 is not a leap year\n"
          ]
        }
      ],
      "source": [
        "if __name__  == \"__main__\":\n",
        "    year = int(input(\"Please enter a year greater than 0:\"))\n",
        "    if is_leap_year(year):\n",
        "        print(f'The year {year} is a leap year')\n",
        "    else:\n",
        "        print(f'The year {year} is not a leap year')"
      ]
    },
    {
      "cell_type": "code",
      "execution_count": 9,
      "metadata": {
        "colab": {
          "base_uri": "https://localhost:8080/"
        },
        "id": "BnJn-fKcU405",
        "outputId": "6f2eeebc-2895-4437-bd49-744d13c6a67c"
      },
      "outputs": [
        {
          "name": "stdout",
          "output_type": "stream",
          "text": [
            "Please enter a year greater than 0:2003\n",
            "The year 2003 is not a leap year\n"
          ]
        }
      ],
      "source": [
        "if __name__  == \"__main__\":\n",
        "    year = int(input(\"Please enter a year greater than 0:\"))\n",
        "    if is_leap_year(year):\n",
        "        print(f'The year {year} is a leap year')\n",
        "    else:\n",
        "        print(f'The year {year} is not a leap year')"
      ]
    },
    {
      "cell_type": "code",
      "execution_count": 10,
      "metadata": {
        "colab": {
          "base_uri": "https://localhost:8080/"
        },
        "id": "N0E7ve8XdBNM",
        "outputId": "a0e094f8-68df-4993-9d5d-dba3357b0a3a"
      },
      "outputs": [
        {
          "name": "stdout",
          "output_type": "stream",
          "text": [
            "Please enter a year greater than 0:2028\n",
            "The year 2028 is a leap year\n"
          ]
        }
      ],
      "source": [
        "if __name__  == \"__main__\":\n",
        "    year = int(input(\"Please enter a year greater than 0:\"))\n",
        "    if is_leap_year(year):\n",
        "        print(f'The year {year} is a leap year')\n",
        "    else:\n",
        "        print(f'The year {year} is not a leap year')"
      ]
    }
  ],
  "metadata": {
    "colab": {
      "provenance": []
    },
    "kernelspec": {
      "display_name": "Python 3.9.10 64-bit",
      "language": "python",
      "name": "python3"
    },
    "language_info": {
      "name": "python",
      "version": "3.9.10"
    },
    "vscode": {
      "interpreter": {
        "hash": "b0fa6594d8f4cbf19f97940f81e996739fb7646882a419484c72d19e05852a7e"
      }
    }
  },
  "nbformat": 4,
  "nbformat_minor": 0
}
