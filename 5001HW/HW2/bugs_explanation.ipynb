{
  "nbformat": 4,
  "nbformat_minor": 0,
  "metadata": {
    "colab": {
      "provenance": []
    },
    "kernelspec": {
      "name": "python3",
      "display_name": "Python 3"
    },
    "language_info": {
      "name": "python"
    }
  },
  "cells": [
    {
      "cell_type": "markdown",
      "source": [
        "1. A **ZeroDivisionError** occurs when second operand of division or modulus operation is zero."
      ],
      "metadata": {
        "id": "qp_OMh-6e6_O"
      }
    },
    {
      "cell_type": "code",
      "source": [
        "print(1/0)"
      ],
      "metadata": {
        "colab": {
          "base_uri": "https://localhost:8080/",
          "height": 169
        },
        "id": "L1IK5_HDe-Og",
        "outputId": "b0124311-6849-4669-bcb6-abc502dbecf7"
      },
      "execution_count": 1,
      "outputs": [
        {
          "output_type": "error",
          "ename": "ZeroDivisionError",
          "evalue": "ignored",
          "traceback": [
            "\u001b[0;31m---------------------------------------------------------------------------\u001b[0m",
            "\u001b[0;31mZeroDivisionError\u001b[0m                         Traceback (most recent call last)",
            "\u001b[0;32m<ipython-input-1-2fc232d1511a>\u001b[0m in \u001b[0;36m<module>\u001b[0;34m\u001b[0m\n\u001b[0;32m----> 1\u001b[0;31m \u001b[0mprint\u001b[0m\u001b[0;34m(\u001b[0m\u001b[0;36m1\u001b[0m\u001b[0;34m/\u001b[0m\u001b[0;36m0\u001b[0m\u001b[0;34m)\u001b[0m\u001b[0;34m\u001b[0m\u001b[0;34m\u001b[0m\u001b[0m\n\u001b[0m",
            "\u001b[0;31mZeroDivisionError\u001b[0m: division by zero"
          ]
        }
      ]
    },
    {
      "cell_type": "markdown",
      "source": [
        "Division by zero is undefined in mathematics, and division by zero in Python is illegal."
      ],
      "metadata": {
        "id": "AVF3BXc5glLF"
      }
    },
    {
      "cell_type": "markdown",
      "source": [
        "2. **SyntaxError**:A syntax error is a common error that the interpreter can detect when attempting to translate a Python statement into machine language."
      ],
      "metadata": {
        "id": "Zky9gpmAfI5L"
      }
    },
    {
      "cell_type": "code",
      "source": [
        "y = 5\n",
        "x = y + 2\n",
        "y + 2 = x"
      ],
      "metadata": {
        "colab": {
          "base_uri": "https://localhost:8080/",
          "height": 133
        },
        "id": "MSNpd7p_fmbO",
        "outputId": "95fc1df1-55a1-40d5-b1e6-cbd5767d481e"
      },
      "execution_count": 2,
      "outputs": [
        {
          "output_type": "error",
          "ename": "SyntaxError",
          "evalue": "ignored",
          "traceback": [
            "\u001b[0;36m  File \u001b[0;32m\"<ipython-input-2-e711572ce62f>\"\u001b[0;36m, line \u001b[0;32m3\u001b[0m\n\u001b[0;31m    y + 2 = x\u001b[0m\n\u001b[0m             ^\u001b[0m\n\u001b[0;31mSyntaxError\u001b[0m\u001b[0;31m:\u001b[0m can't assign to operator\n"
          ]
        }
      ]
    },
    {
      "cell_type": "markdown",
      "source": [
        "The syntax of Python doesn't allow an expression like y + 2 to appear on the left side of the assignment operartor."
      ],
      "metadata": {
        "id": "3JquNSSNgDh8"
      }
    },
    {
      "cell_type": "markdown",
      "source": [
        "3. An **IndexError** occurs when a sequence (list, string, tuple) index is out of range."
      ],
      "metadata": {
        "id": "cP_jVgl6gSpD"
      }
    },
    {
      "cell_type": "code",
      "source": [
        "seq = [2, 5, 11]\n",
        "print(seq[3])"
      ],
      "metadata": {
        "colab": {
          "base_uri": "https://localhost:8080/",
          "height": 187
        },
        "id": "Gx9rFhIOgDOh",
        "outputId": "23d94f76-d1bd-4769-b5b2-b871fcfa652c"
      },
      "execution_count": 3,
      "outputs": [
        {
          "output_type": "error",
          "ename": "IndexError",
          "evalue": "ignored",
          "traceback": [
            "\u001b[0;31m---------------------------------------------------------------------------\u001b[0m",
            "\u001b[0;31mIndexError\u001b[0m                                Traceback (most recent call last)",
            "\u001b[0;32m<ipython-input-3-3aa904361311>\u001b[0m in \u001b[0;36m<module>\u001b[0;34m\u001b[0m\n\u001b[1;32m      1\u001b[0m \u001b[0mseq\u001b[0m \u001b[0;34m=\u001b[0m \u001b[0;34m[\u001b[0m\u001b[0;36m2\u001b[0m\u001b[0;34m,\u001b[0m \u001b[0;36m5\u001b[0m\u001b[0;34m,\u001b[0m \u001b[0;36m11\u001b[0m\u001b[0;34m]\u001b[0m\u001b[0;34m\u001b[0m\u001b[0;34m\u001b[0m\u001b[0m\n\u001b[0;32m----> 2\u001b[0;31m \u001b[0mprint\u001b[0m\u001b[0;34m(\u001b[0m\u001b[0mseq\u001b[0m\u001b[0;34m[\u001b[0m\u001b[0;36m3\u001b[0m\u001b[0;34m]\u001b[0m\u001b[0;34m)\u001b[0m\u001b[0;34m\u001b[0m\u001b[0;34m\u001b[0m\u001b[0m\n\u001b[0m",
            "\u001b[0;31mIndexError\u001b[0m: list index out of range"
          ]
        }
      ]
    },
    {
      "cell_type": "markdown",
      "source": [
        "'3' is out of range of the list'seq' index, which induces an IndexError."
      ],
      "metadata": {
        "id": "jCN3kfSygdJz"
      }
    },
    {
      "cell_type": "markdown",
      "source": [
        "4. A **NameError** occurs when Specified local or global name does not exists"
      ],
      "metadata": {
        "id": "WjKmXf_CguzI"
      }
    },
    {
      "cell_type": "code",
      "source": [
        "print(x)"
      ],
      "metadata": {
        "colab": {
          "base_uri": "https://localhost:8080/",
          "height": 169
        },
        "id": "l5e9ZqXUgpiH",
        "outputId": "35a5d2b5-da58-4c00-a2ea-b957e98818f7"
      },
      "execution_count": 4,
      "outputs": [
        {
          "output_type": "error",
          "ename": "NameError",
          "evalue": "ignored",
          "traceback": [
            "\u001b[0;31m---------------------------------------------------------------------------\u001b[0m",
            "\u001b[0;31mNameError\u001b[0m                                 Traceback (most recent call last)",
            "\u001b[0;32m<ipython-input-4-fc17d851ef81>\u001b[0m in \u001b[0;36m<module>\u001b[0;34m\u001b[0m\n\u001b[0;32m----> 1\u001b[0;31m \u001b[0mprint\u001b[0m\u001b[0;34m(\u001b[0m\u001b[0mx\u001b[0m\u001b[0;34m)\u001b[0m\u001b[0;34m\u001b[0m\u001b[0;34m\u001b[0m\u001b[0m\n\u001b[0m",
            "\u001b[0;31mNameError\u001b[0m: name 'x' is not defined"
          ]
        }
      ]
    },
    {
      "cell_type": "markdown",
      "source": [
        "x is not defined previously, which induces a NameError."
      ],
      "metadata": {
        "id": "P08w8O6lg1-U"
      }
    }
  ]
}